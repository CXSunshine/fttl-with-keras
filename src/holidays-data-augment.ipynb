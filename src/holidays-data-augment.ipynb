{
 "cells": [
  {
   "cell_type": "code",
   "execution_count": 1,
   "metadata": {
    "collapsed": false
   },
   "outputs": [
    {
     "name": "stderr",
     "output_type": "stream",
     "text": [
      "Using TensorFlow backend.\n"
     ]
    }
   ],
   "source": [
    "from __future__ import division, print_function\n",
    "from keras.preprocessing.image import ImageDataGenerator\n",
    "from keras.utils import np_utils\n",
    "from scipy.misc import imresize\n",
    "import itertools\n",
    "import matplotlib.pyplot as plt\n",
    "import numpy as np\n",
    "import random\n",
    "import os\n",
    "%matplotlib inline"
   ]
  },
  {
   "cell_type": "code",
   "execution_count": null,
   "metadata": {
    "collapsed": true
   },
   "outputs": [],
   "source": [
    "DATA_DIR = \"../data\"\n",
    "IMAGE_DIR = os.path.join(DATA_DIR, \"holiday-photos\")"
   ]
  },
  {
   "cell_type": "markdown",
   "metadata": {},
   "source": [
    "Grouping rule:\n",
    "\n",
    "    100301.jpg -> (1003)(01).jpg"
   ]
  },
  {
   "cell_type": "code",
   "execution_count": null,
   "metadata": {
    "collapsed": false
   },
   "outputs": [],
   "source": [
    "ref_image = plt.imread(os.path.join(IMAGE_DIR, \"100301.jpg\"))\n",
    "sim_image = plt.imread(os.path.join(IMAGE_DIR, \"100302.jpg\"))\n",
    "dif_image = plt.imread(os.path.join(IMAGE_DIR, \"127202.jpg\"))\n",
    "\n",
    "def draw_image(subplot, image, title):\n",
    "    plt.subplot(subplot)\n",
    "    plt.imshow(image)\n",
    "    plt.title(title)\n",
    "    plt.xticks([])\n",
    "    plt.yticks([])\n",
    "    \n",
    "draw_image(131, ref_image, \"reference\")\n",
    "draw_image(132, sim_image, \"similar\")\n",
    "draw_image(133, dif_image, \"different\")\n",
    "plt.tight_layout()\n",
    "plt.show()"
   ]
  },
  {
   "cell_type": "markdown",
   "metadata": {},
   "source": [
    "There are 1491 images in this dataset.\n",
    "\n",
    "I want to train a network to predict (reference, similar) images pairs are similar and (reference, different) image pairs are different. My dataset has only about 2072 similar image pairs of this kind. Adding one different image pair for each similar pair is done by selecting an image from the dataset randomly and pairing it with the LHS of the similar image pair. So now we have a dataset of 2072 similar and 2072 different images, for a total of 4144 image pairs."
   ]
  },
  {
   "cell_type": "code",
   "execution_count": null,
   "metadata": {
    "collapsed": false
   },
   "outputs": [],
   "source": [
    "image_groups = {}\n",
    "for image_name in os.listdir(IMAGE_DIR):\n",
    "    base_name = image_name[0:-4]\n",
    "    group_name = base_name[0:4]\n",
    "    if image_groups.has_key(group_name):\n",
    "        image_groups[group_name].append(image_name)\n",
    "    else:\n",
    "        image_groups[group_name] = [image_name]\n",
    "\n",
    "num_sim = 0\n",
    "image_triples = []\n",
    "group_list = sorted(list(image_groups.keys()))\n",
    "for i, g in enumerate(group_list):\n",
    "    if num_sim % 100 == 0:\n",
    "        print(\"Generated {:d} pos + {:d} neg = {:d} total image triples\"\n",
    "              .format(num_sim, num_sim, 2*num_sim), end=\"\\r\")\n",
    "    images_in_group = image_groups[g]\n",
    "    # generate similar pairs\n",
    "    sim_pairs_it = itertools.combinations(images_in_group, 2)\n",
    "    # for each similar pair, generate a different pair\n",
    "    for ref_image, sim_image in sim_pairs_it:\n",
    "        image_triples.append((ref_image, sim_image, 1))\n",
    "        num_sim += 1\n",
    "        while True:\n",
    "            j = np.random.randint(low=0, high=len(group_list), size=1)[0]\n",
    "            if j != i: break\n",
    "        dif_image_candidates = image_groups[group_list[j]]\n",
    "        k = np.random.randint(low=0, high=len(dif_image_candidates), size=1)[0]\n",
    "        dif_image = dif_image_candidates[k]\n",
    "        image_triples.append((ref_image, dif_image, 0))\n",
    "        \n",
    "print(\"Generated {:d} pos + {:d} neg = {:d} total image triples, COMPLETE\"\n",
    "      .format(num_sim, num_sim, 2*num_sim))"
   ]
  },
  {
   "cell_type": "code",
   "execution_count": null,
   "metadata": {
    "collapsed": false
   },
   "outputs": [],
   "source": [
    "def image_triple_generator(image_triples, batch_size):\n",
    "    while True:\n",
    "        # loop once per epoch\n",
    "        num_recs = len(image_triples)\n",
    "        indices = np.random.permutation(np.arange(num_recs))\n",
    "        num_batches = num_recs // batch_size\n",
    "        for bid in range(num_batches):\n",
    "            # loop once per batch\n",
    "            batch_indices = indices[bid * batch_size : (bid + 1) * batch_size]\n",
    "            yield [image_triples[i] for i in batch_indices]\n",
    "            \n",
    "triples_batch_gen = image_triple_generator(image_triples, 4)\n",
    "triples_batch_gen.next()"
   ]
  },
  {
   "cell_type": "code",
   "execution_count": null,
   "metadata": {
    "collapsed": false
   },
   "outputs": [],
   "source": [
    "triples_batch_gen.next()"
   ]
  },
  {
   "cell_type": "markdown",
   "metadata": {},
   "source": [
    "I would like to generate more examples for training using the [Keras ImageDataGenerator](https://keras.io/preprocessing/image/) where I apply the same transformation to both the images in the pair.\n",
    "\n",
    "The documentation page above contains information about applying it to pairs of images such as input and mask (output) images, which could be applied to (reference, similar) and (reference, different) pairs for our use case. It involves building two ImageDataGenerators with identical parameters, and zipping them together and passing the zipped ImageGenerator pair into the model's fit_generator function.\n",
    "\n",
    "My use case is slightly different. I only have triplets with the image names and label as shown above. I would prefer not to have to physically separate out the LHS and RHS images into their separate directories (and actually I am not sure if that would even work, since I suspect I would have to rename them somehow). A simpler method seems to be to call the ImageDataGenerator from within my image_triple_generator function and apply a random transform on the fly to each image.\n",
    "\n",
    "There is a \"private\" (in the sense of not documented) method called random_transform in ImageDataGenerator that takes an 3-D image tensor which I am hoping to exploit for this."
   ]
  },
  {
   "cell_type": "code",
   "execution_count": null,
   "metadata": {
    "collapsed": false
   },
   "outputs": [],
   "source": [
    "datagen_args = dict(rotation_range=10,\n",
    "                    width_shift_range=0.2,\n",
    "                    height_shift_range=0.2,\n",
    "                    shear_range=0.2,\n",
    "                    zoom_range=0.2,\n",
    "                    horizontal_flip=True)\n",
    "datagen = ImageDataGenerator(**datagen_args)\n",
    "\n",
    "sid = 150\n",
    "np.random.seed(42)\n",
    "image = plt.imread(os.path.join(IMAGE_DIR, \"115201.jpg\"))\n",
    "sid += 1\n",
    "draw_image(sid, image, \"orig\")\n",
    "for j in range(4):\n",
    "    augmented = datagen.random_transform(image)\n",
    "    sid += 1\n",
    "    draw_image(sid, augmented, \"aug#{:d}\".format(j + 1))\n",
    "\n",
    "plt.tight_layout()\n",
    "plt.show()"
   ]
  },
  {
   "cell_type": "code",
   "execution_count": null,
   "metadata": {
    "collapsed": false
   },
   "outputs": [],
   "source": [
    "image_pair = [\"108103.jpg\", \"112003.jpg\"]\n",
    "\n",
    "datagens = [ImageDataGenerator(**datagen_args),\n",
    "            ImageDataGenerator(**datagen_args)]\n",
    "\n",
    "sid = 240\n",
    "for i, image in enumerate(image_pair):\n",
    "    image = plt.imread(os.path.join(IMAGE_DIR, image_pair[i]))\n",
    "    sid += 1\n",
    "    draw_image(sid, image, \"orig\")\n",
    "    # make sure the two image data generators generate same transformations\n",
    "    np.random.seed(42)\n",
    "    for j in range(3):\n",
    "        augmented = datagens[i].random_transform(image)\n",
    "        sid += 1\n",
    "        draw_image(sid, augmented, \"aug#{:d}\".format(j + 1))\n",
    "\n",
    "plt.tight_layout()\n",
    "plt.show()"
   ]
  },
  {
   "cell_type": "code",
   "execution_count": null,
   "metadata": {
    "collapsed": true
   },
   "outputs": [],
   "source": [
    "RESIZE_WIDTH = 300\n",
    "RESIZE_HEIGHT = 300\n",
    "\n",
    "def cached_imread(image_path, image_cache):\n",
    "    if not image_cache.has_key(image_path):\n",
    "        image = plt.imread(image_path)\n",
    "        image = imresize(image, (RESIZE_WIDTH, RESIZE_HEIGHT))\n",
    "        image_cache[image_path] = image\n",
    "    return image_cache[image_path]\n",
    "\n",
    "def preprocess_images(image_names, seed, datagen, image_cache):\n",
    "    np.random.seed(seed)\n",
    "    X = np.zeros((len(image_names), RESIZE_WIDTH, RESIZE_HEIGHT, 3))\n",
    "    for i, image_name in enumerate(image_names):\n",
    "        image = cached_imread(os.path.join(IMAGE_DIR, image_name), image_cache)\n",
    "        X[i] = datagen.random_transform(image)\n",
    "    return X\n",
    "\n",
    "def image_triple_generator(image_triples, batch_size):\n",
    "    datagen_args = dict(rotation_range=10,\n",
    "                        width_shift_range=0.2,\n",
    "                        height_shift_range=0.2,\n",
    "                        shear_range=0.2,\n",
    "                        zoom_range=0.2,\n",
    "                        horizontal_flip=True)\n",
    "    datagen_left = ImageDataGenerator(**datagen_args)\n",
    "    datagen_right = ImageDataGenerator(**datagen_args)\n",
    "    image_cache = {}\n",
    "    \n",
    "    while True:\n",
    "        # loop once per epoch\n",
    "        num_recs = len(image_triples)\n",
    "        indices = np.random.permutation(np.arange(num_recs))\n",
    "        num_batches = num_recs // batch_size\n",
    "        for bid in range(num_batches):\n",
    "            # loop once per batch\n",
    "            batch_indices = indices[bid * batch_size : (bid + 1) * batch_size]\n",
    "            batch = [image_triples[i] for i in batch_indices]\n",
    "            # make sure the two image data generators generate same transformations\n",
    "            seed = np.random.randint(low=0, high=1000, size=1)[0]\n",
    "            Xleft = preprocess_images([b[0] for b in batch], seed, datagen_left, image_cache)\n",
    "            Xright = preprocess_images([b[1] for b in batch], seed, datagen_right, image_cache)\n",
    "            Y = np_utils.to_categorical(np.array([b[2] for b in batch]))\n",
    "            yield Xleft, Xright, Y"
   ]
  },
  {
   "cell_type": "code",
   "execution_count": null,
   "metadata": {
    "collapsed": false
   },
   "outputs": [],
   "source": [
    "triples_batch_gen = image_triple_generator(image_triples, 32)\n",
    "Xleft, Xright, Y = triples_batch_gen.next()\n",
    "print(Xleft.shape, Xright.shape, Y.shape)"
   ]
  },
  {
   "cell_type": "code",
   "execution_count": null,
   "metadata": {
    "collapsed": true
   },
   "outputs": [],
   "source": []
  }
 ],
 "metadata": {
  "anaconda-cloud": {},
  "kernelspec": {
   "display_name": "Python [conda root]",
   "language": "python",
   "name": "conda-root-py"
  },
  "language_info": {
   "codemirror_mode": {
    "name": "ipython",
    "version": 2
   },
   "file_extension": ".py",
   "mimetype": "text/x-python",
   "name": "python",
   "nbconvert_exporter": "python",
   "pygments_lexer": "ipython2",
   "version": "2.7.12"
  }
 },
 "nbformat": 4,
 "nbformat_minor": 2
}
